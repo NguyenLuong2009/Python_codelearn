{
 "cells": [
  {
   "cell_type": "code",
   "execution_count": 1,
   "id": "e2431c93",
   "metadata": {},
   "outputs": [
    {
     "name": "stdout",
     "output_type": "stream",
     "text": [
      "3\n",
      "1\n",
      "2\n",
      "3\n",
      "[2]\n"
     ]
    }
   ],
   "source": [
    "#Initial list\n",
    "res = []\n",
    "\n",
    "# Input lengths\n",
    "lengths = int(input())\n",
    "\n",
    "# Add element\n",
    "for i in range(lengths):\n",
    "    # Input elements\n",
    "    n = int(input())\n",
    "    res.append(n)\n",
    "\n",
    "\n",
    "def evenNum(res):\n",
    "    answer = []\n",
    "    for i in res :\n",
    "        if i % 2 == 0 :\n",
    "            answer.append(i)\n",
    "    return answer\n",
    "\n",
    "# print(evenNum(res))\n",
    "\n",
    "print(evenNum(res))\n"
   ]
  },
  {
   "cell_type": "code",
   "execution_count": 2,
   "id": "d2ab46d4",
   "metadata": {},
   "outputs": [
    {
     "name": "stdout",
     "output_type": "stream",
     "text": [
      "7\n",
      "2\n",
      "49\n"
     ]
    }
   ],
   "source": [
    "a = int(input())\n",
    "b = int(input())\n",
    "\n",
    "def power(a, b):\n",
    "    if b == 0 :\n",
    "        return 1 \n",
    "    else :\n",
    "        return a ** b\n",
    "print(power(a,b))"
   ]
  },
  {
   "cell_type": "code",
   "execution_count": 3,
   "id": "697ae2b9",
   "metadata": {},
   "outputs": [
    {
     "name": "stdout",
     "output_type": "stream",
     "text": [
      "16\n",
      "22\n",
      "2\n"
     ]
    }
   ],
   "source": [
    "a = int(input())\n",
    "b = int(input())\n",
    "\n",
    "def gcd(a,b):\n",
    "    if(a == 0 or b == 0) :\n",
    "        return a + b \n",
    "    else :\n",
    "        return gcd(b, a % b)\n",
    "print(gcd(a,b))\n",
    "    "
   ]
  },
  {
   "cell_type": "code",
   "execution_count": 4,
   "id": "37bd1bca",
   "metadata": {},
   "outputs": [
    {
     "name": "stdout",
     "output_type": "stream",
     "text": [
      "20\n",
      "35\n",
      "54\n",
      "Scalene triangle\n"
     ]
    }
   ],
   "source": [
    "def check(a, b, c) :\n",
    "    if ((a + b > c) or (a + c > b ) or (b + c > a)) :\n",
    "        if(a == b or b == c or a == c ) :\n",
    "            if(a == b == c ) : \n",
    "                return \"Equilateral triangle\"\n",
    "            else :\n",
    "                return \"Isosceles triangle\"\n",
    "        else :\n",
    "            return \"Scalene triangle\"\n",
    "\n",
    "a = int(input())\n",
    "b = int(input())\n",
    "c = int(input())\n",
    "print(check(a,b,c))"
   ]
  }
 ],
 "metadata": {
  "kernelspec": {
   "display_name": "Python 3",
   "language": "python",
   "name": "python3"
  },
  "language_info": {
   "codemirror_mode": {
    "name": "ipython",
    "version": 3
   },
   "file_extension": ".py",
   "mimetype": "text/x-python",
   "name": "python",
   "nbconvert_exporter": "python",
   "pygments_lexer": "ipython3",
   "version": "3.8.8"
  }
 },
 "nbformat": 4,
 "nbformat_minor": 5
}
