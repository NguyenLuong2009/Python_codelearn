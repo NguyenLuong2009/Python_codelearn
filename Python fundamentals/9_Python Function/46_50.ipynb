{
 "cells": [
  {
   "cell_type": "code",
   "execution_count": 1,
   "id": "05780e75",
   "metadata": {},
   "outputs": [
    {
     "name": "stdout",
     "output_type": "stream",
     "text": [
      "3\n",
      "5\n",
      "5\n",
      "2\n",
      "12\n"
     ]
    }
   ],
   "source": [
    "def sum_of_list(lst):\n",
    "    answer = 0\n",
    "    for v in lst:\n",
    "        answer += v\n",
    "    return answer\n",
    "\n",
    "lst = []\n",
    "n = int(input())\n",
    "for i in range(n):\n",
    "    lst.append(int(input()))\n",
    "print(sum_of_list(lst))"
   ]
  },
  {
   "cell_type": "code",
   "execution_count": 2,
   "id": "751dd150",
   "metadata": {},
   "outputs": [
    {
     "name": "stdout",
     "output_type": "stream",
     "text": [
      "3\n",
      "5\n",
      "6\n",
      "6\n"
     ]
    }
   ],
   "source": [
    "def max3(a, b, c):\n",
    "    if a > b and a > c:\n",
    "        return a\n",
    "    return b if b > c else c\n",
    "\n",
    "a = int(input())\n",
    "b = int(input())\n",
    "c = int(input())\n",
    "print(max3(a, b, c))"
   ]
  },
  {
   "cell_type": "code",
   "execution_count": 3,
   "id": "323ea39f",
   "metadata": {},
   "outputs": [
    {
     "name": "stdout",
     "output_type": "stream",
     "text": [
      "This is an APPLE\n",
      "Given string: This is an APPLE\n",
      "Number of uppercase letters: 6\n",
      "Number of lowercase letters: 7\n"
     ]
    }
   ],
   "source": [
    "def show(s):\n",
    "    count_upper = 0\n",
    "    count_lower = 0\n",
    "    for c in s:\n",
    "        if c.isupper():\n",
    "            count_upper += 1\n",
    "        if c.islower():\n",
    "            count_lower += 1\n",
    "\n",
    "    print(\"Given string:\", s)\n",
    "    print(\"Number of uppercase letters:\", count_upper)\n",
    "    print(\"Number of lowercase letters:\", count_lower)\n",
    "\n",
    "\n",
    "s = str(input())\n",
    "show(s)"
   ]
  },
  {
   "cell_type": "code",
   "execution_count": 4,
   "id": "5e1bc381",
   "metadata": {},
   "outputs": [
    {
     "name": "stdout",
     "output_type": "stream",
     "text": [
      "8\n",
      "1\n",
      "2\n",
      "3\n",
      "3\n",
      "3\n",
      "3\n",
      "4\n",
      "5\n",
      "[1, 2, 3, 4, 5]\n"
     ]
    }
   ],
   "source": [
    "def get_unique_values(lst):\n",
    "    answer = []\n",
    "    for v in lst:\n",
    "        if v not in answer:\n",
    "            answer.append(v)\n",
    "    return answer\n",
    "\n",
    "n = int(input())\n",
    "lst = []\n",
    "for i in range(n):\n",
    "    lst.append(int(input()))\n",
    "print(get_unique_values(lst))"
   ]
  },
  {
   "cell_type": "code",
   "execution_count": 5,
   "id": "d7c6409b",
   "metadata": {},
   "outputs": [
    {
     "name": "stdout",
     "output_type": "stream",
     "text": [
      "9\n",
      "False\n"
     ]
    }
   ],
   "source": [
    "def is_prime(n):\n",
    "    count = 0\n",
    "    for i in range(1, n + 1):\n",
    "        if n % i == 0:\n",
    "            count += 1\n",
    "    if count == 2:\n",
    "        return True\n",
    "    return False\n",
    "\n",
    "\n",
    "n = int(input())\n",
    "print(is_prime(n))"
   ]
  }
 ],
 "metadata": {
  "kernelspec": {
   "display_name": "Python 3",
   "language": "python",
   "name": "python3"
  },
  "language_info": {
   "codemirror_mode": {
    "name": "ipython",
    "version": 3
   },
   "file_extension": ".py",
   "mimetype": "text/x-python",
   "name": "python",
   "nbconvert_exporter": "python",
   "pygments_lexer": "ipython3",
   "version": "3.8.8"
  }
 },
 "nbformat": 4,
 "nbformat_minor": 5
}
