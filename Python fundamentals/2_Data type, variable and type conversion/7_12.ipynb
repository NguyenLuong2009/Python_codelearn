{
 "cells": [
  {
   "cell_type": "code",
   "execution_count": 1,
   "id": "58244f92",
   "metadata": {},
   "outputs": [
    {
     "name": "stdout",
     "output_type": "stream",
     "text": [
      "1000\n",
      "3.125\n",
      "Codelearn.io\n",
      "True\n"
     ]
    }
   ],
   "source": [
    "# Initialization an integer variable name num_integer\n",
    "num_integer = 1000\n",
    "# Initialization a float variable name num_float\n",
    "num_float = 3.125\n",
    "# Initialization a string variable name string_var\n",
    "string_var = 'Codelearn.io'\n",
    "# Initialization a boolean variable name boolean_var\n",
    "boolean_var = True\n",
    "\n",
    "#Print value of each variable\n",
    "print(num_integer)\n",
    "print(num_float)\n",
    "print(string_var)\n",
    "print(boolean_var)"
   ]
  },
  {
   "cell_type": "code",
   "execution_count": 2,
   "id": "6248e7fc",
   "metadata": {},
   "outputs": [
    {
     "name": "stdout",
     "output_type": "stream",
     "text": [
      "5000\n",
      "1.2345\n",
      "Codelearn.io\n",
      "False\n"
     ]
    }
   ],
   "source": [
    "num_integer = 5000\n",
    "num_float = 1.2345\n",
    "string_var = 'Codelearn.io'\n",
    "boolean_var = False\n",
    "print(num_integer)\n",
    "print(num_float)\n",
    "print(string_var)\n",
    "print(boolean_var)"
   ]
  },
  {
   "cell_type": "code",
   "execution_count": 3,
   "id": "ab0acfb0",
   "metadata": {},
   "outputs": [
    {
     "name": "stdout",
     "output_type": "stream",
     "text": [
      "Hello Codelearn\n"
     ]
    }
   ],
   "source": [
    "name = \"Codelearn\"\n",
    "print( \"Hello \" + name)"
   ]
  },
  {
   "cell_type": "code",
   "execution_count": 4,
   "id": "1c5d13bf",
   "metadata": {},
   "outputs": [
    {
     "name": "stdout",
     "output_type": "stream",
     "text": [
      "Name: Codelearn\n",
      "Date of birth: 2019\n"
     ]
    }
   ],
   "source": [
    "name = \"Codelearn\"\n",
    "date_of_birth = 2019\n",
    "print(\"Name: \" + name)\n",
    "print(\"Date of birth: \" + str(date_of_birth))"
   ]
  },
  {
   "cell_type": "code",
   "execution_count": 5,
   "id": "311d59b0",
   "metadata": {},
   "outputs": [
    {
     "name": "stdout",
     "output_type": "stream",
     "text": [
      "a + b = 1074\n",
      "a - b = -198\n",
      "a * b = 278568\n",
      "a / b = 0.6886792452830188\n"
     ]
    }
   ],
   "source": [
    "a = 438\n",
    "b = 636\n",
    "\n",
    "print(\"a + b = \" + str(a + b))\n",
    "print(\"a - b = \" + str(a - b))\n",
    "print(\"a * b = \" + str(a * b))\n",
    "print(\"a / b = \" + str(a / b))"
   ]
  },
  {
   "cell_type": "code",
   "execution_count": 6,
   "id": "6afa5687",
   "metadata": {},
   "outputs": [
    {
     "name": "stdout",
     "output_type": "stream",
     "text": [
      "Area: 27.3\n",
      "Perimeter: 22.6\n"
     ]
    }
   ],
   "source": [
    "length = 7.8\n",
    "width = 3.5\n",
    "print(\"Area: \" + str(length * width))\n",
    "print(\"Perimeter: \" + str((length + width) * 2))"
   ]
  },
  {
   "cell_type": "code",
   "execution_count": null,
   "id": "56d5a0b3",
   "metadata": {},
   "outputs": [],
   "source": []
  }
 ],
 "metadata": {
  "kernelspec": {
   "display_name": "Python 3",
   "language": "python",
   "name": "python3"
  },
  "language_info": {
   "codemirror_mode": {
    "name": "ipython",
    "version": 3
   },
   "file_extension": ".py",
   "mimetype": "text/x-python",
   "name": "python",
   "nbconvert_exporter": "python",
   "pygments_lexer": "ipython3",
   "version": "3.8.8"
  }
 },
 "nbformat": 4,
 "nbformat_minor": 5
}
