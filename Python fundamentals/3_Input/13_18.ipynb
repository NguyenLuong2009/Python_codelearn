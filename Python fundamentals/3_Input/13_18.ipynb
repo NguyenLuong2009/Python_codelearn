{
 "cells": [
  {
   "cell_type": "code",
   "execution_count": 1,
   "id": "9fd05408",
   "metadata": {},
   "outputs": [
    {
     "name": "stdout",
     "output_type": "stream",
     "text": [
      "Trung\n",
      "Hello Trung\n"
     ]
    }
   ],
   "source": [
    "# nhập dữ liệu cho biến name từ bàn phím\n",
    "name = input()\n",
    "print(\"Hello \" + name)"
   ]
  },
  {
   "cell_type": "code",
   "execution_count": 2,
   "id": "7e9306c2",
   "metadata": {},
   "outputs": [
    {
     "name": "stdout",
     "output_type": "stream",
     "text": [
      "Tuan\n",
      "23\n",
      " In 15 years, age of Tuan will be 38\n"
     ]
    }
   ],
   "source": [
    "name = input()\n",
    "age = int(input())\n",
    "print(\" In 15 years, age of \" + name + \" will be \" + str(age + 15))"
   ]
  },
  {
   "cell_type": "code",
   "execution_count": 3,
   "id": "a7aa6eef",
   "metadata": {},
   "outputs": [
    {
     "name": "stdout",
     "output_type": "stream",
     "text": [
      "5\n",
      "3\n",
      " a % b = 2\n"
     ]
    }
   ],
   "source": [
    "a = int(input())\n",
    "b = int(input())\n",
    "print(\" a % b = \" + str(a % b))"
   ]
  },
  {
   "cell_type": "code",
   "execution_count": 4,
   "id": "3c17f4c1",
   "metadata": {},
   "outputs": [
    {
     "name": "stdout",
     "output_type": "stream",
     "text": [
      "10\n",
      "5\n",
      "a + b = 15\n",
      "a - b = 5\n",
      "a * b = 50\n",
      "a / b = 2.0\n",
      "a % b = 0\n"
     ]
    }
   ],
   "source": [
    "a = int(input())\n",
    "b = int(input())\n",
    "print(\"a + b = \" + str(a + b))\n",
    "print(\"a - b = \" + str(a - b))\n",
    "print(\"a * b = \" + str(a * b))\n",
    "print(\"a / b = \" + str(a / b))\n",
    "print(\"a % b = \" + str (a % b))"
   ]
  },
  {
   "cell_type": "code",
   "execution_count": 5,
   "id": "a9ebad77",
   "metadata": {},
   "outputs": [
    {
     "name": "stdout",
     "output_type": "stream",
     "text": [
      "5\n",
      "7\n",
      "after swap a = 7, b = 5\n"
     ]
    }
   ],
   "source": [
    "a = int(input())\n",
    "b = int(input())\n",
    "c = a \n",
    "a = b\n",
    "b = c\n",
    "print(\"after swap a = \" + str(a) + \", b = \" + str(b))"
   ]
  },
  {
   "cell_type": "code",
   "execution_count": 6,
   "id": "0449a1b1",
   "metadata": {},
   "outputs": [
    {
     "name": "stdout",
     "output_type": "stream",
     "text": [
      "7.5\n",
      "Circumference = 47.1\n"
     ]
    }
   ],
   "source": [
    "r = float(input())\n",
    "print(\"Circumference = \" + str(2 * 3.14 * r))"
   ]
  }
 ],
 "metadata": {
  "kernelspec": {
   "display_name": "Python 3",
   "language": "python",
   "name": "python3"
  },
  "language_info": {
   "codemirror_mode": {
    "name": "ipython",
    "version": 3
   },
   "file_extension": ".py",
   "mimetype": "text/x-python",
   "name": "python",
   "nbconvert_exporter": "python",
   "pygments_lexer": "ipython3",
   "version": "3.8.8"
  }
 },
 "nbformat": 4,
 "nbformat_minor": 5
}
