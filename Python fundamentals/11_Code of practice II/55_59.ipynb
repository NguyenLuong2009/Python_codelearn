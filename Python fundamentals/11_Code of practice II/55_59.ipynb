{
 "cells": [
  {
   "cell_type": "code",
   "execution_count": 1,
   "id": "93bdfae0",
   "metadata": {},
   "outputs": [
    {
     "name": "stdout",
     "output_type": "stream",
     "text": [
      "The quick brown fox jumps over the lazy dog\n",
      "['quick', 'brown', 'jumps', 'over', 'lazy']\n"
     ]
    }
   ],
   "source": [
    "s = str(input())\n",
    "lst = s.split(\" \")\n",
    "# print(\" \".join(lst[:: -1]))\n",
    "answer = []\n",
    "for i in range(0,len(lst)) :\n",
    "  if len(lst[i]) > 3 : \n",
    "    answer.append(lst[i])\n",
    "print(answer)"
   ]
  },
  {
   "cell_type": "code",
   "execution_count": 2,
   "id": "0fcf5d25",
   "metadata": {},
   "outputs": [
    {
     "name": "stdout",
     "output_type": "stream",
     "text": [
      "3\n",
      "11\n",
      "22\n",
      "33\n",
      "112233\n"
     ]
    }
   ],
   "source": [
    "#Initial list\n",
    "res = []\n",
    "\n",
    "# Input lengths\n",
    "lengths = int(input())\n",
    "\n",
    "# Add element\n",
    "for i in range(lengths):\n",
    "    # Input elements\n",
    "    n = int(input())\n",
    "    res.append(n)\n",
    "\n",
    "\n",
    "answer = ''.join(str(x) for x in res)\n",
    "print(answer)"
   ]
  },
  {
   "cell_type": "code",
   "execution_count": 3,
   "id": "6638aa3c",
   "metadata": {},
   "outputs": [
    {
     "name": "stdout",
     "output_type": "stream",
     "text": [
      "ab\n",
      "ab\n"
     ]
    }
   ],
   "source": [
    "s = str(input())\n",
    "\n",
    "def format(s) :\n",
    "  if len(s) < 3 :\n",
    "    return s\n",
    "  else :\n",
    "    v = s[-3:]\n",
    "    k = \"ing\"\n",
    "    if k in v:\n",
    "      return s + \"ly\"\n",
    "    else :\n",
    "      return s + \"ing\"\n",
    "print(format(s))"
   ]
  },
  {
   "cell_type": "code",
   "execution_count": 4,
   "id": "8726f32e",
   "metadata": {},
   "outputs": [
    {
     "name": "stdout",
     "output_type": "stream",
     "text": [
      "25\n",
      "6\n",
      "None\n"
     ]
    }
   ],
   "source": [
    "n = int(input())\n",
    "a = []\n",
    "for i in range(1, n +1) :\n",
    "    if(n % i == 0):\n",
    "      a.append(i)\n",
    "def sumOfAll(n):\n",
    "  sum = 0\n",
    "  for i in range(0,len(a)-1) :\n",
    "    sum += a[i]\n",
    "\n",
    "  print(sum)\n",
    "print(sumOfAll(n))"
   ]
  },
  {
   "cell_type": "code",
   "execution_count": 5,
   "id": "d80fc977",
   "metadata": {},
   "outputs": [
    {
     "name": "stdout",
     "output_type": "stream",
     "text": [
      "10\n",
      "False\n"
     ]
    }
   ],
   "source": [
    "n = int(input())\n",
    "a = []\n",
    "for i in range(1, n +1) :\n",
    "    if(n % i == 0):\n",
    "      a.append(i)\n",
    "def is_abundant(n): \n",
    "  sum = 0 - n \n",
    "  for i in range(0,len(a)-1) :\n",
    "    sum += a[i]\n",
    "  if sum > 0 :\n",
    "    return True\n",
    "  else :\n",
    "    return False\n",
    "print(is_abundant(n))\n"
   ]
  }
 ],
 "metadata": {
  "kernelspec": {
   "display_name": "Python 3",
   "language": "python",
   "name": "python3"
  },
  "language_info": {
   "codemirror_mode": {
    "name": "ipython",
    "version": 3
   },
   "file_extension": ".py",
   "mimetype": "text/x-python",
   "name": "python",
   "nbconvert_exporter": "python",
   "pygments_lexer": "ipython3",
   "version": "3.8.8"
  }
 },
 "nbformat": 4,
 "nbformat_minor": 5
}
