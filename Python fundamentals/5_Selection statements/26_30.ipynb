{
 "cells": [
  {
   "cell_type": "code",
   "execution_count": 1,
   "id": "cfbb1ae1",
   "metadata": {},
   "outputs": [
    {
     "name": "stdout",
     "output_type": "stream",
     "text": [
      "3\n",
      "Your cat is young\n"
     ]
    }
   ],
   "source": [
    "age = int(input())\n",
    "if age < 5:\n",
    "    print(\"Your cat is young\")\n",
    "else :\n",
    "    print(\"Your cat is old\")"
   ]
  },
  {
   "cell_type": "code",
   "execution_count": 2,
   "id": "dd80105d",
   "metadata": {},
   "outputs": [
    {
     "name": "stdout",
     "output_type": "stream",
     "text": [
      "130\n",
      "Stay at home and enjoy a good movie\n"
     ]
    }
   ],
   "source": [
    "temperature = int(input())\n",
    "\n",
    "if temperature >= 100:\n",
    "    print(\"Stay at home and enjoy a good movie\")\n",
    "elif temperature >= 92:\n",
    "    print(\"Stay at home\")\n",
    "elif temperature == 75:\n",
    "    print(\"Go outside and enjoy the weather\")\n",
    "elif temperature <= 0:\n",
    "    print(\"It's cool outside\")\n",
    "else:\n",
    "    print(\"Let's go to school\")"
   ]
  },
  {
   "cell_type": "code",
   "execution_count": 3,
   "id": "3e8a4074",
   "metadata": {},
   "outputs": [
    {
     "name": "stdout",
     "output_type": "stream",
     "text": [
      "10\n",
      "20\n",
      "30\n",
      "y is greater than or equal to 20\n"
     ]
    }
   ],
   "source": [
    "x = int(input())\n",
    "y = int(input())\n",
    "z = int(input())\n",
    "if x % 2 == 0:\n",
    "    if y >= 20:\n",
    "        print(\"y is greater than or equal to 20\")\n",
    "    else:\n",
    "        print(\"y is less than 20\")\n",
    "else:\n",
    "    if z >= 30:\n",
    "        print(\"z is greater than or equal to 30\")\n",
    "    else:\n",
    "        print(\"z is less than 30\")\n",
    "     "
   ]
  },
  {
   "cell_type": "code",
   "execution_count": 4,
   "id": "04a84e4a",
   "metadata": {},
   "outputs": [
    {
     "name": "stdout",
     "output_type": "stream",
     "text": [
      "10\n",
      "20\n",
      "30\n",
      "The average value is greater than a\n"
     ]
    }
   ],
   "source": [
    "a = int(input())\n",
    "b = int(input())\n",
    "c = int(input())\n",
    "avg = ( a + b + c ) / 3\n",
    "if avg > a and avg > b:\n",
    "    print(\"The average value is greater than both a and b\")\n",
    "elif avg > a and avg > c:\n",
    "    print(\"The average value is greater than both a and c\")\n",
    "elif avg > b and avg > c:\n",
    "    print(\"The average value is greater than both b and c\")\n",
    "elif avg > a:\n",
    "    print(\"The average value is greater than a\")\n",
    "elif avg > b:\n",
    "    print(\"The average value is greater than b\")\n",
    "elif avg > c:\n",
    "    print(\"The average value is greater than c\")"
   ]
  },
  {
   "cell_type": "code",
   "execution_count": 5,
   "id": "7b5c9835",
   "metadata": {},
   "outputs": [
    {
     "name": "stdout",
     "output_type": "stream",
     "text": [
      "30\n",
      "Over 5 human years\n"
     ]
    }
   ],
   "source": [
    "age = int(input())\n",
    "\n",
    "if age <= 0:\n",
    "    print(\"This can hardly be true\")\n",
    "elif age == 1:\n",
    "    print(\"About 1 human year\")\n",
    "elif age == 2:\n",
    "    print(\"About 2 human years\")\n",
    "elif age > 2:\n",
    "    print(\"Over 5 human years\")"
   ]
  }
 ],
 "metadata": {
  "kernelspec": {
   "display_name": "Python 3",
   "language": "python",
   "name": "python3"
  },
  "language_info": {
   "codemirror_mode": {
    "name": "ipython",
    "version": 3
   },
   "file_extension": ".py",
   "mimetype": "text/x-python",
   "name": "python",
   "nbconvert_exporter": "python",
   "pygments_lexer": "ipython3",
   "version": "3.8.8"
  }
 },
 "nbformat": 4,
 "nbformat_minor": 5
}
