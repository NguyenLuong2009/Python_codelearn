{
 "cells": [
  {
   "cell_type": "code",
   "execution_count": 1,
   "id": "fd1b1b7e",
   "metadata": {},
   "outputs": [
    {
     "name": "stdout",
     "output_type": "stream",
     "text": [
      "Hello, World!\n"
     ]
    }
   ],
   "source": [
    "print(\"Hello, World!\")"
   ]
  },
  {
   "cell_type": "code",
   "execution_count": 2,
   "id": "6b0c1c2d",
   "metadata": {},
   "outputs": [
    {
     "name": "stdout",
     "output_type": "stream",
     "text": [
      "Welcome to Codelearn.io!\n"
     ]
    }
   ],
   "source": [
    "print(\"Welcome to Codelearn.io!\")"
   ]
  },
  {
   "cell_type": "code",
   "execution_count": 3,
   "id": "53e60bbc",
   "metadata": {},
   "outputs": [
    {
     "name": "stdout",
     "output_type": "stream",
     "text": [
      "5555\n"
     ]
    }
   ],
   "source": [
    "print(3273 + 2282)"
   ]
  },
  {
   "cell_type": "code",
   "execution_count": 4,
   "id": "a3d3f9e0",
   "metadata": {},
   "outputs": [
    {
     "name": "stdout",
     "output_type": "stream",
     "text": [
      "2468 + 1234 = 3702\n",
      "2468 - 1234 = 1234\n",
      "2468 * 1234 = 3045512\n",
      "2468 / 1234 = 2.0\n"
     ]
    }
   ],
   "source": [
    "print(\"2468 + 1234 =\", 2468 + 1234)\n",
    "print(\"2468 - 1234 =\", 2468 - 1234)\n",
    "print(\"2468 * 1234 =\", 2468 * 1234)\n",
    "print(\"2468 / 1234 =\", 2468 / 1234)"
   ]
  },
  {
   "cell_type": "code",
   "execution_count": 5,
   "id": "a8231ff5",
   "metadata": {},
   "outputs": [
    {
     "name": "stdout",
     "output_type": "stream",
     "text": [
      "Area = 49.92\n",
      "Perimeter = 28.4\n"
     ]
    }
   ],
   "source": [
    "print(\"Area =\", 6.4 * 7.8)\n",
    "print(\"Perimeter =\", (6.4 + 7.8)*2)\n"
   ]
  },
  {
   "cell_type": "code",
   "execution_count": 6,
   "id": "7c17c4ac",
   "metadata": {},
   "outputs": [
    {
     "name": "stdout",
     "output_type": "stream",
     "text": [
      "Hello, World!\n"
     ]
    }
   ],
   "source": [
    "'''\n",
    "A simple Python program to display \"Hello, World!\" on the screen\n",
    "using Python's print() function\n",
    "'''\n",
    "# Display Hello World on the screen\n",
    "print(\"Hello, World!\")"
   ]
  }
 ],
 "metadata": {
  "kernelspec": {
   "display_name": "Python 3",
   "language": "python",
   "name": "python3"
  },
  "language_info": {
   "codemirror_mode": {
    "name": "ipython",
    "version": 3
   },
   "file_extension": ".py",
   "mimetype": "text/x-python",
   "name": "python",
   "nbconvert_exporter": "python",
   "pygments_lexer": "ipython3",
   "version": "3.8.8"
  }
 },
 "nbformat": 4,
 "nbformat_minor": 5
}
