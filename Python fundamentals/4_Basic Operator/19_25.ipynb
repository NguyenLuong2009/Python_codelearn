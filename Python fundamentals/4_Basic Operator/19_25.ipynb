{
 "cells": [
  {
   "cell_type": "code",
   "execution_count": 1,
   "id": "0374de8e",
   "metadata": {},
   "outputs": [
    {
     "name": "stdout",
     "output_type": "stream",
     "text": [
      "10\n",
      "12\n",
      " The area of triangle is 60.0\n"
     ]
    }
   ],
   "source": [
    "a = int(input())\n",
    "\n",
    "h = int(input())\n",
    "\n",
    "print(\" The area of triangle is \" + str(0.5 * a * h))"
   ]
  },
  {
   "cell_type": "code",
   "execution_count": 2,
   "id": "b168d7b2",
   "metadata": {},
   "outputs": [
    {
     "name": "stdout",
     "output_type": "stream",
     "text": [
      "2\n",
      "3\n",
      "8\n"
     ]
    }
   ],
   "source": [
    "a = int(input())\n",
    "b = int(input())\n",
    "print(a ** b)"
   ]
  },
  {
   "cell_type": "code",
   "execution_count": 3,
   "id": "76fea07d",
   "metadata": {},
   "outputs": [
    {
     "name": "stdout",
     "output_type": "stream",
     "text": [
      "4\n",
      "5\n",
      "x > y: False\n"
     ]
    }
   ],
   "source": [
    "x = int(input())\n",
    "y = int(input())\n",
    "print(\"x > y:\", x > y)"
   ]
  },
  {
   "cell_type": "code",
   "execution_count": 4,
   "id": "fe658799",
   "metadata": {},
   "outputs": [
    {
     "name": "stdout",
     "output_type": "stream",
     "text": [
      "7\n",
      "21\n",
      "The Value of the Total after using += Operator is: 28\n",
      "The Value of the Total after using -= Operator is: 21\n",
      "The Value of the Total after using *= Operator is: 147\n",
      "The Value of the Total after using //= Operator is: 21\n",
      "The Value of the Total after using **= Operator is: 1801088541\n",
      "The Value of the Total after using /= Operator is: 257298363.0\n",
      "The Value of the Total after using %= Operator is: 0.0\n"
     ]
    }
   ],
   "source": [
    "a = int(input())\n",
    "Total = int(input())\n",
    "Total += a # Using += Operator\n",
    "print(\"The Value of the Total after using += Operator is:\", Total)\n",
    "Total -= a # Using -= Operator\n",
    "print(\"The Value of the Total after using -= Operator is:\", Total)\n",
    "Total *= a # Using *= Operator\n",
    "print(\"The Value of the Total after using *= Operator is:\", Total)\n",
    "Total //= a  # Using //= Operator\n",
    "print(\"The Value of the Total after using //= Operator is:\", Total)\n",
    "Total **= a  # Using **= Operator\n",
    "print(\"The Value of the Total after using **= Operator is:\", Total)\n",
    "Total /= a # Using /= Operator\n",
    "print(\"The Value of the Total after using /= Operator is:\", Total)\n",
    "Total %= a  # Using %= Operator\n",
    "print(\"The Value of the Total after using %= Operator is:\", Total)"
   ]
  },
  {
   "cell_type": "code",
   "execution_count": 5,
   "id": "ce3db1d3",
   "metadata": {},
   "outputs": [
    {
     "name": "stdout",
     "output_type": "stream",
     "text": [
      "Helloo\n",
      "True\n"
     ]
    }
   ],
   "source": [
    "x = input()\n",
    "print('H' in x )"
   ]
  },
  {
   "cell_type": "code",
   "execution_count": 6,
   "id": "4a1b1c00",
   "metadata": {},
   "outputs": [
    {
     "name": "stdout",
     "output_type": "stream",
     "text": [
      "5\n",
      "5\n",
      "True\n"
     ]
    }
   ],
   "source": [
    "a = int(input())\n",
    "b = int(input())\n",
    "\n",
    "print(a is b)"
   ]
  },
  {
   "cell_type": "code",
   "execution_count": 7,
   "id": "4d17b5bd",
   "metadata": {},
   "outputs": [
    {
     "name": "stdout",
     "output_type": "stream",
     "text": [
      "2\n",
      "3\n",
      "4\n",
      "5\n",
      "Result evaluation is False\n"
     ]
    }
   ],
   "source": [
    "x = int(input())\n",
    "y = int(input())\n",
    "z = int(input())\n",
    "t = int(input())\n",
    "\n",
    "print(\"Result evaluation is\", (x > y) and (z < t))\n"
   ]
  }
 ],
 "metadata": {
  "kernelspec": {
   "display_name": "Python 3",
   "language": "python",
   "name": "python3"
  },
  "language_info": {
   "codemirror_mode": {
    "name": "ipython",
    "version": 3
   },
   "file_extension": ".py",
   "mimetype": "text/x-python",
   "name": "python",
   "nbconvert_exporter": "python",
   "pygments_lexer": "ipython3",
   "version": "3.8.8"
  }
 },
 "nbformat": 4,
 "nbformat_minor": 5
}
