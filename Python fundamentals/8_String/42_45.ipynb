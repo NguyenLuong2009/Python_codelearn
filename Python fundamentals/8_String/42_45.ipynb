{
 "cells": [
  {
   "cell_type": "code",
   "execution_count": 1,
   "id": "71c2ae7a",
   "metadata": {},
   "outputs": [
    {
     "name": "stdout",
     "output_type": "stream",
     "text": [
      "codelearn\n",
      "CODELEARN\n"
     ]
    }
   ],
   "source": [
    "s = input()\n",
    "print(s.upper())"
   ]
  },
  {
   "cell_type": "code",
   "execution_count": 2,
   "id": "20bc187d",
   "metadata": {},
   "outputs": [
    {
     "name": "stdout",
     "output_type": "stream",
     "text": [
      "UNO\n",
      "UNNO\n"
     ]
    }
   ],
   "source": [
    "s = input()\n",
    "if len(s) < 2:\n",
    "    print(\"\")\n",
    "else:\n",
    "    print(s[0:2] + s[-2:])"
   ]
  },
  {
   "cell_type": "code",
   "execution_count": 3,
   "id": "dc4f6923",
   "metadata": {},
   "outputs": [
    {
     "name": "stdout",
     "output_type": "stream",
     "text": [
      "abc\n",
      "xyz\n",
      "xyc abz\n"
     ]
    }
   ],
   "source": [
    "s1 = input()\n",
    "s2 = input()\n",
    "\n",
    "tmp = s1[0:2] + s2[2:]\n",
    "s1 = s2[0:2] + s1[2:]\n",
    "s2 = tmp\n",
    "\n",
    "print(s1 + \" \" + s2)"
   ]
  },
  {
   "cell_type": "code",
   "execution_count": 4,
   "id": "7fc2518b",
   "metadata": {},
   "outputs": [
    {
     "name": "stdout",
     "output_type": "stream",
     "text": [
      "The quick brown fox jumps over the lazy dog\n",
      "dog lazy the over jumps fox brown quick The\n"
     ]
    }
   ],
   "source": [
    "s = str(input())\n",
    "lst = s.split(\" \")\n",
    "print(\" \".join(lst[:: -1]))"
   ]
  },
  {
   "cell_type": "code",
   "execution_count": null,
   "id": "9217953a",
   "metadata": {},
   "outputs": [],
   "source": []
  }
 ],
 "metadata": {
  "kernelspec": {
   "display_name": "Python 3",
   "language": "python",
   "name": "python3"
  },
  "language_info": {
   "codemirror_mode": {
    "name": "ipython",
    "version": 3
   },
   "file_extension": ".py",
   "mimetype": "text/x-python",
   "name": "python",
   "nbconvert_exporter": "python",
   "pygments_lexer": "ipython3",
   "version": "3.8.8"
  }
 },
 "nbformat": 4,
 "nbformat_minor": 5
}
