{
 "cells": [
  {
   "cell_type": "code",
   "execution_count": 1,
   "id": "8eff6cf2",
   "metadata": {},
   "outputs": [
    {
     "name": "stdout",
     "output_type": "stream",
     "text": [
      "5\n",
      "15\n"
     ]
    }
   ],
   "source": [
    "n = int(input())\n",
    "answer = 0\n",
    "for i in range(1, n + 1):\n",
    "    answer += i\n",
    "print(answer)"
   ]
  },
  {
   "cell_type": "code",
   "execution_count": 2,
   "id": "be779916",
   "metadata": {},
   "outputs": [
    {
     "name": "stdout",
     "output_type": "stream",
     "text": [
      "3\n",
      "9\n",
      "24\n"
     ]
    }
   ],
   "source": [
    "a = int(input())\n",
    "b = int(input())\n",
    "\n",
    "answer = 0\n",
    "\n",
    "answer = 0\n",
    "for i in range(a, b + 1):\n",
    "    if i % 2 != 0:\n",
    "        answer += i\n",
    "print(answer)"
   ]
  },
  {
   "cell_type": "code",
   "execution_count": 3,
   "id": "8b7ce3ec",
   "metadata": {},
   "outputs": [
    {
     "name": "stdout",
     "output_type": "stream",
     "text": [
      "sunny\n",
      "Current character: s\n",
      "Current character: u\n",
      "Current character: n\n",
      "Current character: n\n"
     ]
    }
   ],
   "source": [
    "s = input()\n",
    "for c in s:\n",
    "    if c == 'y':\n",
    "        continue    \n",
    "    print(\"Current character:\", c)"
   ]
  },
  {
   "cell_type": "code",
   "execution_count": 4,
   "id": "cc927a55",
   "metadata": {},
   "outputs": [
    {
     "name": "stdout",
     "output_type": "stream",
     "text": [
      "10\n",
      "10 * 1 = 10\n",
      "10 * 2 = 20\n",
      "10 * 3 = 30\n",
      "10 * 4 = 40\n",
      "10 * 5 = 50\n"
     ]
    }
   ],
   "source": [
    "n = int(input())\n",
    "i = 1\n",
    "\n",
    "while i <= 5:\n",
    "    print(n, \"*\", i, \"=\", n * i)\n",
    "    i += 1"
   ]
  },
  {
   "cell_type": "code",
   "execution_count": 5,
   "id": "75201764",
   "metadata": {},
   "outputs": [
    {
     "name": "stdout",
     "output_type": "stream",
     "text": [
      "1\n",
      "10\n",
      "Number of even numbers: 5\n",
      "Number of odd numbers: 5\n"
     ]
    }
   ],
   "source": [
    "#Input\n",
    "a = int(input())\n",
    "b = int(input())\n",
    "count_odd = 0\n",
    "count_even = 0\n",
    "\n",
    "for i in range(a, b + 1):\n",
    "    if i % 2 == 0:\n",
    "        count_even += 1\n",
    "    else:\n",
    "        count_odd += 1\n",
    "\n",
    "print(\"Number of even numbers:\",count_even)\n",
    "print(\"Number of odd numbers:\",count_odd)"
   ]
  },
  {
   "cell_type": "code",
   "execution_count": 6,
   "id": "b0248b94",
   "metadata": {},
   "outputs": [
    {
     "name": "stdout",
     "output_type": "stream",
     "text": [
      "4\n",
      "2.72\n"
     ]
    }
   ],
   "source": [
    "n = int(input())\n",
    "ans = 0\n",
    "for i in range(1, n+1):\n",
    "    ans += i / (i + 1)\n",
    "print(round(ans, 2))"
   ]
  }
 ],
 "metadata": {
  "kernelspec": {
   "display_name": "Python 3",
   "language": "python",
   "name": "python3"
  },
  "language_info": {
   "codemirror_mode": {
    "name": "ipython",
    "version": 3
   },
   "file_extension": ".py",
   "mimetype": "text/x-python",
   "name": "python",
   "nbconvert_exporter": "python",
   "pygments_lexer": "ipython3",
   "version": "3.8.8"
  }
 },
 "nbformat": 4,
 "nbformat_minor": 5
}
